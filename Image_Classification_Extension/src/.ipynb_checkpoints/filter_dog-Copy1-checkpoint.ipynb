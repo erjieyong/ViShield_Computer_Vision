{
 "cells": [
  {
   "cell_type": "markdown",
   "id": "e46188e3-22dc-422c-b6c4-8b9718d7622e",
   "metadata": {},
   "source": [
    "# Importing libraries and datasets"
   ]
  },
  {
   "cell_type": "code",
   "execution_count": 28,
   "id": "a94c12cc-ac81-4fc8-98f5-acd82f133976",
   "metadata": {},
   "outputs": [],
   "source": [
    "# Import the necessary new libraries\n",
    "from tensorflow.keras.models import Sequential, load_model\n",
    "from tensorflow.keras.optimizers import Adam\n",
    "from tensorflow.keras.layers import Dense, Dropout, Flatten, Conv2D, MaxPooling2D, GlobalMaxPooling2D\n",
    "from tensorflow.keras.preprocessing import image\n",
    "from tensorflow.keras.preprocessing.image import ImageDataGenerator\n",
    "from tensorflow.keras.applications.mobilenet_v2 import MobileNetV2, preprocess_input\n",
    "\n",
    "#for saving model in javascript format\n",
    "import tensorflowjs as tfjs\n",
    "\n",
    "import numpy as np\n",
    "import matplotlib.pyplot as plt"
   ]
  },
  {
   "cell_type": "code",
   "execution_count": 2,
   "id": "72eced1e-5a7b-4380-98bc-9b5d58367138",
   "metadata": {},
   "outputs": [
    {
     "name": "stdout",
     "output_type": "stream",
     "text": [
      "Found 2000 images belonging to 2 classes.\n",
      "Found 1000 images belonging to 2 classes.\n"
     ]
    }
   ],
   "source": [
    "# Load the Train and Validation data\n",
    "train_data = ImageDataGenerator(preprocessing_function=preprocess_input).flow_from_directory('training_data/cats_and_dogs_filtered/train/', \n",
    "                                                                                             target_size=(224,224), \n",
    "                                                                                             class_mode='binary'\n",
    "                                                                                            )\n",
    "\n",
    "val_data = ImageDataGenerator(preprocessing_function=preprocess_input).flow_from_directory('training_data/cats_and_dogs_filtered/validation/', \n",
    "                                                                                           target_size=(224,224), \n",
    "                                                                                           class_mode='binary'\n",
    "                                                                                          )"
   ]
  },
  {
   "cell_type": "markdown",
   "id": "8958e260-694d-426d-b6d0-13b026bfa600",
   "metadata": {},
   "source": [
    "# Transfer Learning"
   ]
  },
  {
   "cell_type": "code",
   "execution_count": 3,
   "id": "9f7bb2dd-c9e6-4d0a-9e82-8a85c09a7b55",
   "metadata": {},
   "outputs": [
    {
     "name": "stdout",
     "output_type": "stream",
     "text": [
      "{'cats': 0, 'dogs': 1}\n"
     ]
    }
   ],
   "source": [
    "# Check the classes that ImageDataGenerator was able to find using .class_indices\n",
    "class_mappings = train_data.class_indices # save output mappings dictionary to 'class_mappings' variable to use later for predictions\n",
    "print(class_mappings) # shows us that 'cats'->assigned to class 0, 'dogs'->assigned to class 1"
   ]
  },
  {
   "cell_type": "code",
   "execution_count": 4,
   "id": "3df46ec6-175c-45bc-bedf-29fa7201b095",
   "metadata": {},
   "outputs": [
    {
     "name": "stdout",
     "output_type": "stream",
     "text": [
      "WARNING:tensorflow:`input_shape` is undefined or non-square, or `rows` is not in [96, 128, 160, 192, 224]. Weights for input shape (224, 224) will be loaded as the default.\n"
     ]
    }
   ],
   "source": [
    "# Import the desired pre-trained transfer learning model: we'll use MobileNetV2\n",
    "pre_trained_model = MobileNetV2(include_top=False, pooling='avg') # after executing this, we have our CNN architecture!\n",
    "\n",
    "# Freeze the model so we don't accidentally change the pre-trained model parameters during dense layer gradient descent\n",
    "pre_trained_model.trainable = False"
   ]
  },
  {
   "cell_type": "code",
   "execution_count": 10,
   "id": "157657a0-d5b9-46b4-9ccd-f32e311ae797",
   "metadata": {},
   "outputs": [
    {
     "name": "stdout",
     "output_type": "stream",
     "text": [
      "Model: \"sequential_2\"\n",
      "_________________________________________________________________\n",
      " Layer (type)                Output Shape              Param #   \n",
      "=================================================================\n",
      " mobilenetv2_1.00_224 (Funct  (None, 1280)             2257984   \n",
      " ional)                                                          \n",
      "                                                                 \n",
      " dense (Dense)               (None, 1)                 1281      \n",
      "                                                                 \n",
      "=================================================================\n",
      "Total params: 2,259,265\n",
      "Trainable params: 1,281\n",
      "Non-trainable params: 2,257,984\n",
      "_________________________________________________________________\n"
     ]
    }
   ],
   "source": [
    "# Create our FNN model architecture\n",
    "trf_model = Sequential() # instantiate empty sequential model using Sequential class\n",
    "\n",
    "# Then add the pre-trained model to use Transfer Learning, get all the weights from pre_trained_model\n",
    "trf_model.add(pre_trained_model) # pre_trained_model = input CNN layers\n",
    "\n",
    "# Finally add our custom modifications - here, we'll just take the 1-D vector output from MobileNetV2 & use logistic regression classification head to classify dogs vs cats\n",
    "# students can explore adding more dense hidden layers before this output layer too!\n",
    "trf_model.add(Dense(1, activation='sigmoid')) # dense 1 layer & activation = 'sigmoid' for binary classification\n",
    "\n",
    "trf_model.summary()"
   ]
  },
  {
   "cell_type": "code",
   "execution_count": 11,
   "id": "9821ae76-c596-4b4d-b38e-decbf93b7183",
   "metadata": {},
   "outputs": [],
   "source": [
    "# Compile the model\n",
    "opt = Adam(learning_rate=0.001) # specify Adam optimizer\n",
    "trf_model.compile(loss='binary_crossentropy', optimizer=opt, metrics=['accuracy']) # (same as what we've been doing before)"
   ]
  },
  {
   "cell_type": "code",
   "execution_count": 12,
   "id": "0f118873-5aec-49b8-b839-deb2d6316b64",
   "metadata": {},
   "outputs": [
    {
     "name": "stdout",
     "output_type": "stream",
     "text": [
      "Epoch 1/5\n",
      "63/63 [==============================] - 38s 566ms/step - loss: 0.2461 - accuracy: 0.9085 - val_loss: 0.0880 - val_accuracy: 0.9790\n",
      "Epoch 2/5\n",
      "63/63 [==============================] - 32s 504ms/step - loss: 0.0757 - accuracy: 0.9795 - val_loss: 0.0696 - val_accuracy: 0.9820\n",
      "Epoch 3/5\n",
      "63/63 [==============================] - 32s 518ms/step - loss: 0.0583 - accuracy: 0.9840 - val_loss: 0.0537 - val_accuracy: 0.9850\n",
      "Epoch 4/5\n",
      "63/63 [==============================] - 32s 511ms/step - loss: 0.0460 - accuracy: 0.9880 - val_loss: 0.0483 - val_accuracy: 0.9850\n",
      "Epoch 5/5\n",
      "63/63 [==============================] - 34s 546ms/step - loss: 0.0389 - accuracy: 0.9915 - val_loss: 0.0454 - val_accuracy: 0.9860\n"
     ]
    }
   ],
   "source": [
    "# Fit model on training data (fit model and save results to history)\n",
    "history = trf_model.fit(train_data, # train_data created using ImageDataGenerator class for model training (X, y split internally)\n",
    "                        batch_size=64, # hyperparameter to tune\n",
    "                        validation_data=val_data, # val_data created using ImageDataGenerator class for model validation (X, y split internally)\n",
    "                        epochs=5, # generally less than 5 is sufficient when using transfer learning!\n",
    "                       )"
   ]
  },
  {
   "cell_type": "markdown",
   "id": "fe141d31-2b40-49ac-8554-d5f76f5b9d68",
   "metadata": {},
   "source": [
    "# Evaluation"
   ]
  },
  {
   "cell_type": "code",
   "execution_count": 29,
   "id": "713e8d7d-80bf-4e15-9995-e42cf15a0bfc",
   "metadata": {},
   "outputs": [
    {
     "data": {
      "image/png": "[encoded data removed]",
      "text/plain": [
       "<Figure size 800x600 with 1 Axes>"
      ]
     },
     "metadata": {},
     "output_type": "display_data"
    }
   ],
   "source": [
    "train_loss = history.history['loss']\n",
    "test_loss = history.history['val_loss']\n",
    "\n",
    "# Set figure size.\n",
    "plt.figure(figsize=(8, 6))\n",
    "\n",
    "# Generate line plot of training, testing loss over epochs.\n",
    "plt.plot(train_loss, label='Training Loss')\n",
    "plt.plot(test_loss, label='Testing Loss')\n",
    "\n",
    "# Set title\n",
    "plt.xlabel('Epoch')\n",
    "plt.ylabel('Loss')\n",
    "plt.legend();"
   ]
  },
  {
   "cell_type": "markdown",
   "id": "2d7f1ea0-8b1c-49ff-bd29-816b585f1eb5",
   "metadata": {},
   "source": [
    "# Saving model in python and javascript"
   ]
  },
  {
   "cell_type": "code",
   "execution_count": 18,
   "id": "024b083b-ce12-484a-b1e4-7f6442d3fbb2",
   "metadata": {},
   "outputs": [],
   "source": [
    "#python\n",
    "trf_model.save('pymodels/cats_vs_dogs.h5') "
   ]
  },
  {
   "cell_type": "code",
   "execution_count": 21,
   "id": "3e20fd3c-c46d-42c2-a5df-b77ca7cc3404",
   "metadata": {},
   "outputs": [],
   "source": [
    "# javascript\n",
    "tfjs.converters.save_keras_model(trf_model, 'jsmodels/cats_vs_dogs')"
   ]
  },
  {
   "cell_type": "markdown",
   "id": "127a0754-d7c6-458d-9118-845e4d639a7b",
   "metadata": {
    "tags": []
   },
   "source": [
    "# Testing model"
   ]
  },
  {
   "cell_type": "code",
   "execution_count": 22,
   "id": "3a6b7681-e7ed-4a0d-b8ab-065621e4673e",
   "metadata": {},
   "outputs": [],
   "source": [
    "trf_model = load_model('pymodels/cats_vs_dogs.h5')"
   ]
  },
  {
   "cell_type": "code",
   "execution_count": 24,
   "id": "843c2b2e-acdd-41ec-97f4-14f8903afd1f",
   "metadata": {},
   "outputs": [],
   "source": [
    "test_image = image.load_img('testing_data/dog1.jpg', target_size=[224,224]) # we've saved one image on this path (image of a dog) that we can load using image class\n",
    "\n",
    "test_image = image.img_to_array(test_image)\n",
    "test_image = np.expand_dims(test_image, axis=0) \n",
    "test_image = preprocess_input(test_image)"
   ]
  },
  {
   "cell_type": "code",
   "execution_count": 25,
   "id": "b8c57d88-bebb-4546-adb2-74fe28eb95e3",
   "metadata": {},
   "outputs": [
    {
     "name": "stdout",
     "output_type": "stream",
     "text": [
      "1/1 [==============================] - 1s 714ms/step\n",
      "[[0.9923195]]\n"
     ]
    }
   ],
   "source": [
    "result = trf_model.predict(test_image)\n",
    "print(result)"
   ]
  }
 ],
 "metadata": {
  "kernelspec": {
   "display_name": "Python 3 (ipykernel)",
   "language": "python",
   "name": "python3"
  },
  "language_info": {
   "codemirror_mode": {
    "name": "ipython",
    "version": 3
   },
   "file_extension": ".py",
   "mimetype": "text/x-python",
   "name": "python",
   "nbconvert_exporter": "python",
   "pygments_lexer": "ipython3",
   "version": "3.8.13"
  }
 },
 "nbformat": 4,
 "nbformat_minor": 5
}

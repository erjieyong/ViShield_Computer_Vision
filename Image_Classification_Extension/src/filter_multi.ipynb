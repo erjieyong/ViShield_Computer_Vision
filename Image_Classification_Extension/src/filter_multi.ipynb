{
 "cells": [
  {
   "cell_type": "markdown",
   "id": "8d094a42-b9e2-4421-b54b-eeede1b27f70",
   "metadata": {},
   "source": [
    "# Multiclass Model Training\n",
    "\n",
    "To train MobileNetv2 using transfer learning to perform image classification for snakes, dogs, cats, and trypophobic images"
   ]
  },
  {
   "cell_type": "markdown",
   "id": "e46188e3-22dc-422c-b6c4-8b9718d7622e",
   "metadata": {
    "tags": []
   },
   "source": [
    "# Importing libraries and datasets"
   ]
  },
  {
   "cell_type": "code",
   "execution_count": 1,
   "id": "a94c12cc-ac81-4fc8-98f5-acd82f133976",
   "metadata": {},
   "outputs": [],
   "source": [
    "# Import the necessary new libraries\n",
    "from tensorflow.keras.models import Sequential, load_model\n",
    "from tensorflow.keras.optimizers import Adam\n",
    "from tensorflow.keras.layers import Dense, Dropout, Flatten, Conv2D, MaxPooling2D, GlobalMaxPooling2D\n",
    "from tensorflow.keras.preprocessing import image\n",
    "from tensorflow.keras.preprocessing.image import ImageDataGenerator\n",
    "from tensorflow.keras.applications.mobilenet_v2 import MobileNetV2, preprocess_input\n",
    "from tensorflow.keras.callbacks import EarlyStopping\n",
    "\n",
    "#for saving model in javascript format\n",
    "import tensorflowjs as tfjs\n",
    "\n",
    "import numpy as np\n",
    "import matplotlib.pyplot as plt\n",
    "import os"
   ]
  },
  {
   "cell_type": "code",
   "execution_count": 2,
   "id": "72eced1e-5a7b-4380-98bc-9b5d58367138",
   "metadata": {},
   "outputs": [
    {
     "name": "stdout",
     "output_type": "stream",
     "text": [
      "Found 43946 images belonging to 5 classes.\n",
      "Found 5144 images belonging to 5 classes.\n"
     ]
    }
   ],
   "source": [
    "# Load the Train and Validation data\n",
    "train_data = ImageDataGenerator(preprocessing_function=preprocess_input).flow_from_directory('training_data/train/', \n",
    "                                                                                             target_size=(224,224), \n",
    "                                                                                             class_mode='categorical'\n",
    "                                                                                            )\n",
    "\n",
    "val_data = ImageDataGenerator(preprocessing_function=preprocess_input).flow_from_directory('training_data/validation/', \n",
    "                                                                                           target_size=(224,224), \n",
    "                                                                                           class_mode='categorical'\n",
    "                                                                                          )"
   ]
  },
  {
   "cell_type": "markdown",
   "id": "c94859b1-80b7-4927-b9cc-1ac4591407be",
   "metadata": {},
   "source": [
    "filter out dogs, cats, snakes from others class"
   ]
  },
  {
   "cell_type": "markdown",
   "id": "8958e260-694d-426d-b6d0-13b026bfa600",
   "metadata": {},
   "source": [
    "# Transfer Learning"
   ]
  },
  {
   "cell_type": "code",
   "execution_count": 3,
   "id": "9f7bb2dd-c9e6-4d0a-9e82-8a85c09a7b55",
   "metadata": {},
   "outputs": [
    {
     "name": "stdout",
     "output_type": "stream",
     "text": [
      "{'cats': 0, 'dogs': 1, 'others': 2, 'snakes': 3, 'trypo': 4}\n"
     ]
    }
   ],
   "source": [
    "# Check the classes that ImageDataGenerator was able to find using .class_indices\n",
    "class_mappings = train_data.class_indices # save output mappings dictionary to 'class_mappings' variable to use later for predictions\n",
    "print(class_mappings) # check class mappings"
   ]
  },
  {
   "cell_type": "code",
   "execution_count": 4,
   "id": "3df46ec6-175c-45bc-bedf-29fa7201b095",
   "metadata": {},
   "outputs": [
    {
     "name": "stdout",
     "output_type": "stream",
     "text": [
      "WARNING:tensorflow:`input_shape` is undefined or non-square, or `rows` is not in [96, 128, 160, 192, 224]. Weights for input shape (224, 224) will be loaded as the default.\n"
     ]
    }
   ],
   "source": [
    "# Import the desired pre-trained transfer learning model: we'll use MobileNetV2\n",
    "pre_trained_model = MobileNetV2(include_top=False, pooling='avg')\n",
    "\n",
    "# Freeze the model so we don't accidentally change the pre-trained model parameters during dense layer gradient descent\n",
    "pre_trained_model.trainable = False"
   ]
  },
  {
   "cell_type": "code",
   "execution_count": 5,
   "id": "d80f4610-6ba1-4b07-8842-a502d7e47f26",
   "metadata": {},
   "outputs": [],
   "source": [
    "# calculate class weight do deal with imbalanced dataset\n",
    "# based on https://www.tensorflow.org/tutorials/structured_data/imbalanced_data#calculate_class_weights\n",
    "cat_pics = 1000\n",
    "dog_pics = 1000\n",
    "others_pics = 10003\n",
    "snake_pics = 26121\n",
    "trypo_pics = 5817\n",
    "total = cat_pics + dog_pics + snake_pics + others_pics + trypo_pics\n",
    "cat_weight = (1/cat_pics)*(total/2)\n",
    "dog_weight = (1/dog_pics)*(total/2)\n",
    "others_weight = (1/others_pics)*(total/2)\n",
    "snake_weight = (1/snake_pics)*(total/2)\n",
    "trypo_weight = (1/trypo_pics)*(total/2)\n",
    "class_weight = {\n",
    "    0:cat_weight,\n",
    "    1:dog_weight,\n",
    "    2:others_weight,\n",
    "    3:snake_weight,\n",
    "    4:trypo_weight\n",
    "}"
   ]
  },
  {
   "cell_type": "markdown",
   "id": "e918284b-ff5b-4193-9ef2-27d0c6bcaf51",
   "metadata": {
    "tags": []
   },
   "source": [
    "## Baseline transfer"
   ]
  },
  {
   "cell_type": "code",
   "execution_count": 6,
   "id": "b6edccb5-ddec-42d0-a79b-8b0d7e5d88b5",
   "metadata": {},
   "outputs": [
    {
     "name": "stdout",
     "output_type": "stream",
     "text": [
      "Model: \"sequential\"\n",
      "_________________________________________________________________\n",
      " Layer (type)                Output Shape              Param #   \n",
      "=================================================================\n",
      " mobilenetv2_1.00_224 (Funct  (None, 1280)             2257984   \n",
      " ional)                                                          \n",
      "                                                                 \n",
      " dense (Dense)               (None, 32)                40992     \n",
      "                                                                 \n",
      " dense_1 (Dense)             (None, 5)                 165       \n",
      "                                                                 \n",
      "=================================================================\n",
      "Total params: 2,299,141\n",
      "Trainable params: 41,157\n",
      "Non-trainable params: 2,257,984\n",
      "_________________________________________________________________\n"
     ]
    }
   ],
   "source": [
    "# Create our FNN model architecture\n",
    "trf_model_bl = Sequential() # instantiate empty sequential model using Sequential class\n",
    "\n",
    "# Then add the pre-trained model to use Transfer Learning, get all the weights from pre_trained_model\n",
    "trf_model_bl.add(pre_trained_model) \n",
    "\n",
    "trf_model_bl.add(Dense(32, activation='relu'))\n",
    "trf_model_bl.add(Dense(5, activation='softmax'))\n",
    "\n",
    "trf_model_bl.summary()"
   ]
  },
  {
   "cell_type": "code",
   "execution_count": 7,
   "id": "42c64b48-5007-4e99-ae2e-f88c412ad9d6",
   "metadata": {},
   "outputs": [],
   "source": [
    "# Compile the model\n",
    "opt = Adam(learning_rate=0.001) # specify Adam optimizer\n",
    "trf_model_bl.compile(loss='categorical_crossentropy', optimizer=opt, metrics=['accuracy']) # specify loss function\n"
   ]
  },
  {
   "cell_type": "code",
   "execution_count": 8,
   "id": "d6404545-b382-4ccf-b893-456cb492d695",
   "metadata": {},
   "outputs": [
    {
     "name": "stdout",
     "output_type": "stream",
     "text": [
      "Epoch 1/8\n",
      "1374/1374 [==============================] - 390s 282ms/step - loss: 0.5884 - accuracy: 0.9269 - val_loss: 0.1482 - val_accuracy: 0.9516\n",
      "Epoch 2/8\n",
      "1374/1374 [==============================] - 333s 243ms/step - loss: 0.3675 - accuracy: 0.9473 - val_loss: 0.1567 - val_accuracy: 0.9479\n",
      "Epoch 3/8\n",
      "1374/1374 [==============================] - 342s 249ms/step - loss: 0.2911 - accuracy: 0.9542 - val_loss: 0.1232 - val_accuracy: 0.9609\n",
      "Epoch 4/8\n",
      "1374/1374 [==============================] - 341s 248ms/step - loss: 0.2631 - accuracy: 0.9572 - val_loss: 0.1170 - val_accuracy: 0.9648\n",
      "Epoch 5/8\n",
      "1374/1374 [==============================] - 321s 234ms/step - loss: 0.2298 - accuracy: 0.9616 - val_loss: 0.1575 - val_accuracy: 0.9528\n",
      "Epoch 6/8\n",
      "1374/1374 [==============================] - 304s 221ms/step - loss: 0.2122 - accuracy: 0.9653 - val_loss: 0.1424 - val_accuracy: 0.9576\n",
      "Epoch 7/8\n",
      "1374/1374 [==============================] - 292s 212ms/step - loss: 0.1812 - accuracy: 0.9696 - val_loss: 0.1405 - val_accuracy: 0.9596\n",
      "Epoch 8/8\n",
      "1374/1374 [==============================] - 285s 208ms/step - loss: 0.1503 - accuracy: 0.9737 - val_loss: 0.1402 - val_accuracy: 0.9586\n"
     ]
    }
   ],
   "source": [
    "# Fit model on training data (fit model and save results to history)\n",
    "history = trf_model_bl.fit(train_data, # train_data created using ImageDataGenerator class for model training (X, y split internally)\n",
    "                        batch_size=256,\n",
    "                        validation_data=val_data, # val_data created using ImageDataGenerator class for model validation (X, y split internally)\n",
    "                        epochs=8,\n",
    "                        class_weight=class_weight\n",
    "                       )"
   ]
  },
  {
   "cell_type": "code",
   "execution_count": 9,
   "id": "e556ea39-4ed3-4eb4-af58-e978e7054ef4",
   "metadata": {},
   "outputs": [
    {
     "data": {
      "image/png": "[encoded data removed]",
      "text/plain": [
       "<Figure size 800x600 with 1 Axes>"
      ]
     },
     "metadata": {},
     "output_type": "display_data"
    }
   ],
   "source": [
    "train_loss = history.history['loss']\n",
    "test_loss = history.history['val_loss']\n",
    "\n",
    "# Set figure size.\n",
    "plt.figure(figsize=(8, 6))\n",
    "\n",
    "# Generate line plot of training, testing loss over epochs.\n",
    "plt.plot(train_loss, label='Training Loss')\n",
    "plt.plot(test_loss, label='Testing Loss')\n",
    "\n",
    "# Set title\n",
    "plt.xlabel('Epoch')\n",
    "plt.ylabel('Loss')\n",
    "plt.legend();"
   ]
  },
  {
   "cell_type": "markdown",
   "id": "ba501470-d812-457c-8f4a-8ed3677134b2",
   "metadata": {},
   "source": [
    "## Transfer with 1 hidden layer and early stopping"
   ]
  },
  {
   "cell_type": "code",
   "execution_count": 10,
   "id": "0819d2df-07d8-40f7-b3be-d53589dea024",
   "metadata": {},
   "outputs": [
    {
     "name": "stdout",
     "output_type": "stream",
     "text": [
      "Model: \"sequential_1\"\n",
      "_________________________________________________________________\n",
      " Layer (type)                Output Shape              Param #   \n",
      "=================================================================\n",
      " mobilenetv2_1.00_224 (Funct  (None, 1280)             2257984   \n",
      " ional)                                                          \n",
      "                                                                 \n",
      " dense_2 (Dense)             (None, 32)                40992     \n",
      "                                                                 \n",
      " dense_3 (Dense)             (None, 5)                 165       \n",
      "                                                                 \n",
      "=================================================================\n",
      "Total params: 2,299,141\n",
      "Trainable params: 41,157\n",
      "Non-trainable params: 2,257,984\n",
      "_________________________________________________________________\n"
     ]
    }
   ],
   "source": [
    "# Create our FNN model architecture\n",
    "trf_model_es = Sequential() # instantiate empty sequential model using Sequential class\n",
    "\n",
    "# Then add the pre-trained model to use Transfer Learning, get all the weights from pre_trained_model\n",
    "trf_model_es.add(pre_trained_model) \n",
    "\n",
    "trf_model_es.add(Dense(32, activation='relu'))\n",
    "trf_model_es.add(Dense(5, activation='softmax'))\n",
    "trf_model_es.summary()"
   ]
  },
  {
   "cell_type": "code",
   "execution_count": 11,
   "id": "983c10ab-71d9-4b6f-9215-a0dfe8205139",
   "metadata": {},
   "outputs": [],
   "source": [
    "# Compile the model\n",
    "opt = Adam(learning_rate=0.001) # specify Adam optimizer\n",
    "trf_model_es.compile(loss='categorical_crossentropy', optimizer=opt, metrics=['accuracy']) # specify loss function\n",
    "early_stop = EarlyStopping(monitor='val_loss',  # specify early stopping with patience\n",
    "                           min_delta=0, \n",
    "                           patience = 5,\n",
    "                           mode='auto')"
   ]
  },
  {
   "cell_type": "code",
   "execution_count": 12,
   "id": "d0740706-c1e0-4163-af86-b2bcb3059584",
   "metadata": {},
   "outputs": [
    {
     "name": "stdout",
     "output_type": "stream",
     "text": [
      "Epoch 1/8\n",
      "1374/1374 [==============================] - 318s 230ms/step - loss: 0.5822 - accuracy: 0.9263 - val_loss: 0.1553 - val_accuracy: 0.9481\n",
      "Epoch 2/8\n",
      "1374/1374 [==============================] - 321s 234ms/step - loss: 0.3533 - accuracy: 0.9494 - val_loss: 0.1247 - val_accuracy: 0.9603\n",
      "Epoch 3/8\n",
      "1374/1374 [==============================] - 313s 228ms/step - loss: 0.2835 - accuracy: 0.9551 - val_loss: 0.1665 - val_accuracy: 0.9512\n",
      "Epoch 4/8\n",
      "1374/1374 [==============================] - 302s 220ms/step - loss: 0.2409 - accuracy: 0.9619 - val_loss: 0.1122 - val_accuracy: 0.9627\n",
      "Epoch 5/8\n",
      "1374/1374 [==============================] - 336s 245ms/step - loss: 0.2238 - accuracy: 0.9646 - val_loss: 0.1443 - val_accuracy: 0.9594\n",
      "Epoch 6/8\n",
      "1374/1374 [==============================] - 293s 213ms/step - loss: 0.1995 - accuracy: 0.9683 - val_loss: 0.1586 - val_accuracy: 0.9524\n",
      "Epoch 7/8\n",
      "1374/1374 [==============================] - 270s 196ms/step - loss: 0.1533 - accuracy: 0.9740 - val_loss: 0.1707 - val_accuracy: 0.9541\n",
      "Epoch 8/8\n",
      "1374/1374 [==============================] - 253s 184ms/step - loss: 0.1387 - accuracy: 0.9759 - val_loss: 0.1570 - val_accuracy: 0.9603\n"
     ]
    }
   ],
   "source": [
    "# Fit model on training data (fit model and save results to history)\n",
    "history = trf_model_es.fit(train_data, # train_data created using ImageDataGenerator class for model training (X, y split internally)\n",
    "                        batch_size=256, # hyperparameter to tune\n",
    "                        validation_data=val_data, # val_data created using ImageDataGenerator class for model validation (X, y split internally)\n",
    "                        epochs=8,\n",
    "                        callbacks=[early_stop],\n",
    "                        class_weight=class_weight\n",
    "                       )"
   ]
  },
  {
   "cell_type": "code",
   "execution_count": 13,
   "id": "3ed307cc-a565-4631-803b-d654571bb8cd",
   "metadata": {},
   "outputs": [
    {
     "data": {
      "image/png": "[encoded data removed]",
      "text/plain": [
       "<Figure size 800x600 with 1 Axes>"
      ]
     },
     "metadata": {},
     "output_type": "display_data"
    }
   ],
   "source": [
    "train_loss = history.history['loss']\n",
    "test_loss = history.history['val_loss']\n",
    "\n",
    "# Set figure size.\n",
    "plt.figure(figsize=(8, 6))\n",
    "\n",
    "# Generate line plot of training, testing loss over epochs.\n",
    "plt.plot(train_loss, label='Training Loss')\n",
    "plt.plot(test_loss, label='Testing Loss')\n",
    "\n",
    "# Set title\n",
    "plt.xlabel('Epoch')\n",
    "plt.ylabel('Loss')\n",
    "plt.legend();"
   ]
  },
  {
   "cell_type": "markdown",
   "id": "0698593c-696e-41e0-8214-91edbbe543f9",
   "metadata": {},
   "source": [
    "## Transfer with 2 hidden layer, drop out and early stopping"
   ]
  },
  {
   "cell_type": "code",
   "execution_count": 14,
   "id": "157657a0-d5b9-46b4-9ccd-f32e311ae797",
   "metadata": {},
   "outputs": [
    {
     "name": "stdout",
     "output_type": "stream",
     "text": [
      "Model: \"sequential_2\"\n",
      "_________________________________________________________________\n",
      " Layer (type)                Output Shape              Param #   \n",
      "=================================================================\n",
      " mobilenetv2_1.00_224 (Funct  (None, 1280)             2257984   \n",
      " ional)                                                          \n",
      "                                                                 \n",
      " dense_4 (Dense)             (None, 64)                81984     \n",
      "                                                                 \n",
      " dense_5 (Dense)             (None, 32)                2080      \n",
      "                                                                 \n",
      " dropout (Dropout)           (None, 32)                0         \n",
      "                                                                 \n",
      " dense_6 (Dense)             (None, 5)                 165       \n",
      "                                                                 \n",
      "=================================================================\n",
      "Total params: 2,342,213\n",
      "Trainable params: 84,229\n",
      "Non-trainable params: 2,257,984\n",
      "_________________________________________________________________\n"
     ]
    }
   ],
   "source": [
    "# Create our FNN model architecture\n",
    "trf_model_2_do_es = Sequential() # instantiate empty sequential model using Sequential class\n",
    "\n",
    "# Then add the pre-trained model to use Transfer Learning, get all the weights from pre_trained_model\n",
    "trf_model_2_do_es.add(pre_trained_model) \n",
    "\n",
    "trf_model_2_do_es.add(Dense(64, activation='relu'))\n",
    "trf_model_2_do_es.add(Dense(32, activation='relu'))\n",
    "trf_model_2_do_es.add(Dropout(0.5)) # added dropout layer\n",
    "trf_model_2_do_es.add(Dense(5, activation='softmax'))\n",
    "\n",
    "trf_model_2_do_es.summary()"
   ]
  },
  {
   "cell_type": "code",
   "execution_count": 15,
   "id": "9821ae76-c596-4b4d-b38e-decbf93b7183",
   "metadata": {},
   "outputs": [],
   "source": [
    "# Compile the model\n",
    "opt = Adam(learning_rate=0.001) # specify Adam optimizer\n",
    "trf_model_2_do_es.compile(loss='categorical_crossentropy', optimizer=opt, metrics=['accuracy'])\n",
    "early_stop = EarlyStopping(monitor='val_loss',  # specify early stopping with patience\n",
    "                           min_delta=0, \n",
    "                           patience = 5,\n",
    "                           mode='auto')"
   ]
  },
  {
   "cell_type": "code",
   "execution_count": 16,
   "id": "0f118873-5aec-49b8-b839-deb2d6316b64",
   "metadata": {},
   "outputs": [
    {
     "name": "stdout",
     "output_type": "stream",
     "text": [
      "Epoch 1/8\n",
      "1374/1374 [==============================] - 292s 211ms/step - loss: 0.9641 - accuracy: 0.8791 - val_loss: 0.1408 - val_accuracy: 0.9506\n",
      "Epoch 2/8\n",
      "1374/1374 [==============================] - 313s 228ms/step - loss: 0.5749 - accuracy: 0.9220 - val_loss: 0.1359 - val_accuracy: 0.9531\n",
      "Epoch 3/8\n",
      "1374/1374 [==============================] - 287s 209ms/step - loss: 0.5040 - accuracy: 0.9300 - val_loss: 0.1214 - val_accuracy: 0.9596\n",
      "Epoch 4/8\n",
      "1374/1374 [==============================] - 277s 201ms/step - loss: 0.4260 - accuracy: 0.9368 - val_loss: 0.1707 - val_accuracy: 0.9547\n",
      "Epoch 5/8\n",
      "1374/1374 [==============================] - 280s 204ms/step - loss: 0.4013 - accuracy: 0.9429 - val_loss: 0.1668 - val_accuracy: 0.9541\n",
      "Epoch 6/8\n",
      "1374/1374 [==============================] - 299s 218ms/step - loss: 0.3452 - accuracy: 0.9470 - val_loss: 0.1488 - val_accuracy: 0.9557\n",
      "Epoch 7/8\n",
      "1374/1374 [==============================] - 340s 248ms/step - loss: 0.3123 - accuracy: 0.9496 - val_loss: 0.1295 - val_accuracy: 0.9600\n",
      "Epoch 8/8\n",
      "1374/1374 [==============================] - 338s 246ms/step - loss: 0.2975 - accuracy: 0.9537 - val_loss: 0.1533 - val_accuracy: 0.9522\n"
     ]
    }
   ],
   "source": [
    "# Fit model on training data (fit model and save results to history)\n",
    "history = trf_model_2_do_es.fit(train_data, # train_data created using ImageDataGenerator class for model training (X, y split internally)\n",
    "                        batch_size=256, # hyperparameter to tune\n",
    "                        validation_data=val_data, # val_data created using ImageDataGenerator class for model validation (X, y split internally)\n",
    "                        epochs=8,\n",
    "                        callbacks=[early_stop],\n",
    "                        class_weight=class_weight\n",
    "                       )"
   ]
  },
  {
   "cell_type": "markdown",
   "id": "fe141d31-2b40-49ac-8554-d5f76f5b9d68",
   "metadata": {},
   "source": [
    "# Evaluation"
   ]
  },
  {
   "cell_type": "code",
   "execution_count": 17,
   "id": "713e8d7d-80bf-4e15-9995-e42cf15a0bfc",
   "metadata": {},
   "outputs": [
    {
     "data": {
      "image/png": "[encoded data removed]",
      "text/plain": [
       "<Figure size 800x600 with 1 Axes>"
      ]
     },
     "metadata": {},
     "output_type": "display_data"
    }
   ],
   "source": [
    "train_loss = history.history['loss']\n",
    "test_loss = history.history['val_loss']\n",
    "\n",
    "# Set figure size.\n",
    "plt.figure(figsize=(8, 6))\n",
    "\n",
    "# Generate line plot of training, testing loss over epochs.\n",
    "plt.plot(train_loss, label='Training Loss')\n",
    "plt.plot(test_loss, label='Testing Loss')\n",
    "\n",
    "# Set title\n",
    "plt.xlabel('Epoch')\n",
    "plt.ylabel('Loss')\n",
    "plt.legend();"
   ]
  },
  {
   "cell_type": "markdown",
   "id": "2d7f1ea0-8b1c-49ff-bd29-816b585f1eb5",
   "metadata": {},
   "source": [
    "# Saving model in python and javascript\n",
    "\n",
    "We decided to save our baseline model as it has the lowest validation loss and comparable accuracy\n",
    "\n",
    "Hidden Layers | Regularisation | Validation Loss | Validation Accuracy | \n",
    "-------- | ---------- | -------- | -------- |\n",
    "1 | None | 0.1402 | 0.9586\n",
    "1 | EarlyStopping | 0.1570 | 0.9603\n",
    "2 | EarlyStopping, Dropout | 0.1533 | 0.9522"
   ]
  },
  {
   "cell_type": "code",
   "execution_count": 28,
   "id": "024b083b-ce12-484a-b1e4-7f6442d3fbb2",
   "metadata": {},
   "outputs": [],
   "source": [
    "#python\n",
    "trf_model_bl.save('pymodels/filter_multi.h5') "
   ]
  },
  {
   "cell_type": "code",
   "execution_count": 34,
   "id": "3e20fd3c-c46d-42c2-a5df-b77ca7cc3404",
   "metadata": {},
   "outputs": [],
   "source": [
    "# javascript\n",
    "tfjs.converters.save_keras_model(trf_model_bl, 'jsmodels/filter_multi')"
   ]
  },
  {
   "cell_type": "markdown",
   "id": "127a0754-d7c6-458d-9118-845e4d639a7b",
   "metadata": {
    "tags": []
   },
   "source": [
    "# Testing model"
   ]
  },
  {
   "cell_type": "code",
   "execution_count": 29,
   "id": "3a6b7681-e7ed-4a0d-b8ab-065621e4673e",
   "metadata": {},
   "outputs": [],
   "source": [
    "trf_model = load_model('pymodels/filter_multi.h5')"
   ]
  },
  {
   "cell_type": "code",
   "execution_count": 30,
   "id": "ddf13d5b-df19-4cc6-9c46-e1c2c75e2655",
   "metadata": {},
   "outputs": [],
   "source": [
    "def output_result(result):\n",
    "    result_class = ['cats', 'dogs', 'others', 'snakes', 'trypo']\n",
    "    results = dict(zip(result_class, result.tolist()[0]))\n",
    "    results = {k: v for k, v in sorted(results.items(), key=lambda item: item[1], reverse=True)}\n",
    "    return results"
   ]
  },
  {
   "cell_type": "code",
   "execution_count": 31,
   "id": "c05c6cbf-6471-4358-ba76-b9a2e96149c9",
   "metadata": {},
   "outputs": [],
   "source": [
    "def load_process_predict(path):\n",
    "    test_image = image.load_img(path, target_size=[224,224]) # we've saved one image on this path (image of a dog) that we can load using image class\n",
    "\n",
    "    test_image = image.img_to_array(test_image)\n",
    "    test_image = np.expand_dims(test_image, axis=0) \n",
    "    test_image = preprocess_input(test_image)\n",
    "    result = trf_model.predict(test_image)\n",
    "\n",
    "    print(output_result(result))"
   ]
  },
  {
   "cell_type": "code",
   "execution_count": 33,
   "id": "280cc742-5700-4d7e-b691-6f07f609d135",
   "metadata": {},
   "outputs": [
    {
     "name": "stdout",
     "output_type": "stream",
     "text": [
      "cat1.png\n",
      "1/1 [==============================] - 0s 37ms/step\n",
      "{'cats': 0.9997053742408752, 'trypo': 0.0002367630513617769, 'others': 5.604920443147421e-05, 'dogs': 1.5378016087197466e-06, 'snakes': 1.9744121004805493e-07}\n",
      "cat2.jpg\n",
      "1/1 [==============================] - 0s 21ms/step\n",
      "{'cats': 0.9636344909667969, 'others': 0.036151476204395294, 'trypo': 0.00013413566921371967, 'dogs': 7.987963908817619e-05, 'snakes': 7.592637629727506e-09}\n",
      "cat3.jpg\n",
      "1/1 [==============================] - 0s 20ms/step\n",
      "{'cats': 0.9866468906402588, 'others': 0.013297640718519688, 'trypo': 5.387189958128147e-05, 'dogs': 1.4977275668570655e-06, 'snakes': 2.0668258571276965e-07}\n",
      "dog1.jpg\n",
      "1/1 [==============================] - 0s 21ms/step\n",
      "{'dogs': 0.7691968083381653, 'others': 0.2224583476781845, 'trypo': 0.006186348851770163, 'snakes': 0.0021466517355293036, 'cats': 1.1870295566041023e-05}\n",
      "dog2.jpg\n",
      "1/1 [==============================] - 0s 21ms/step\n",
      "{'dogs': 0.9947081804275513, 'others': 0.0026184595189988613, 'trypo': 0.0023612319491803646, 'cats': 0.00025786293554119766, 'snakes': 5.4223019105847925e-05}\n",
      "dog3.png\n",
      "1/1 [==============================] - 0s 21ms/step\n",
      "{'dogs': 0.9993304014205933, 'trypo': 0.0003418241685722023, 'others': 0.0003274609334766865, 'cats': 1.7011667807764752e-07, 'snakes': 1.663174344912477e-07}\n",
      "dog4.jpeg\n",
      "1/1 [==============================] - 0s 20ms/step\n",
      "{'dogs': 0.9998005032539368, 'others': 0.0001927727134898305, 'trypo': 3.652460009107017e-06, 'snakes': 3.110368425041088e-06, 'cats': 5.7689235333224786e-11}\n",
      "dog5.jpg\n",
      "1/1 [==============================] - 0s 20ms/step\n",
      "{'dogs': 0.9993228912353516, 'others': 0.0005655798013322055, 'trypo': 9.618695185054094e-05, 'snakes': 1.3857550584361888e-05, 'cats': 1.5410467995025101e-06}\n",
      "dog6.jpg\n",
      "1/1 [==============================] - 0s 22ms/step\n",
      "{'dogs': 0.9684624671936035, 'others': 0.030884521082043648, 'trypo': 0.0006527170771732926, 'snakes': 2.0594239913407364e-07, 'cats': 7.181261363342628e-09}\n",
      "random1.png\n",
      "1/1 [==============================] - 0s 22ms/step\n",
      "{'trypo': 0.9416563510894775, 'others': 0.05801229178905487, 'snakes': 0.00033123622415587306, 'dogs': 1.2454735554001672e-07, 'cats': 4.564463529366236e-10}\n",
      "random2.jpg\n",
      "1/1 [==============================] - 0s 20ms/step\n",
      "{'trypo': 0.9712632298469543, 'others': 0.02794930525124073, 'snakes': 0.0007867080275900662, 'dogs': 7.638169563506381e-07, 'cats': 9.529061983926113e-09}\n",
      "random3.webp\n",
      "1/1 [==============================] - 0s 23ms/step\n",
      "{'snakes': 0.9512876868247986, 'others': 0.04610190540552139, 'trypo': 0.002596341772004962, 'dogs': 1.404714203090407e-05, 'cats': 5.694344440421162e-10}\n",
      "random4.jpg\n",
      "1/1 [==============================] - 0s 23ms/step\n",
      "{'others': 0.7834433317184448, 'trypo': 0.20919038355350494, 'dogs': 0.0071844072081148624, 'cats': 0.0001539510121801868, 'snakes': 2.796172702801414e-05}\n",
      "random5.jpg\n",
      "1/1 [==============================] - 0s 21ms/step\n",
      "{'others': 0.9810435175895691, 'trypo': 0.010028975084424019, 'snakes': 0.004085342399775982, 'dogs': 0.0031208235304802656, 'cats': 0.001721296925097704}\n",
      "random6.webp\n",
      "1/1 [==============================] - 0s 23ms/step\n",
      "{'others': 0.9912475943565369, 'trypo': 0.008741957135498524, 'snakes': 5.553517439693678e-06, 'dogs': 4.858065040025394e-06, 'cats': 6.1231126835537e-08}\n",
      "snake1.webp\n",
      "1/1 [==============================] - 0s 22ms/step\n",
      "{'snakes': 0.9981155395507812, 'others': 0.0014691181713715196, 'trypo': 0.0004153887857683003, 'dogs': 5.4482415107193205e-11, 'cats': 9.37012793744696e-12}\n",
      "snake2.jpg\n",
      "1/1 [==============================] - 0s 22ms/step\n",
      "{'snakes': 0.9998307228088379, 'trypo': 0.00013263455184642226, 'others': 3.5767989174928516e-05, 'dogs': 7.920462508081982e-07, 'cats': 3.0330706835002275e-08}\n",
      "snake3.jpg\n",
      "1/1 [==============================] - 0s 22ms/step\n",
      "{'snakes': 0.9999977350234985, 'trypo': 2.172323320337455e-06, 'others': 5.3028429647383746e-08, 'dogs': 8.285242714123342e-09, 'cats': 1.959452600175382e-09}\n",
      "typo1.jpg\n",
      "1/1 [==============================] - 0s 23ms/step\n",
      "{'trypo': 0.9999873638153076, 'others': 1.2628310287254862e-05, 'snakes': 2.862395598324241e-10, 'dogs': 1.393200550585394e-12, 'cats': 7.057365759496892e-13}\n",
      "typo2.webp\n",
      "1/1 [==============================] - 0s 21ms/step\n",
      "{'trypo': 0.9880318641662598, 'others': 0.01196456141769886, 'dogs': 2.6277423330611782e-06, 'snakes': 9.499304951532395e-07, 'cats': 9.728744893022778e-11}\n",
      "typo3.webp\n",
      "1/1 [==============================] - 0s 21ms/step\n",
      "{'trypo': 0.9947570562362671, 'others': 0.00524100661277771, 'snakes': 1.9802803308266448e-06, 'dogs': 3.708827342463472e-11, 'cats': 7.185590555729149e-13}\n",
      "typo4.jpg\n",
      "1/1 [==============================] - 0s 21ms/step\n",
      "{'trypo': 0.9907740950584412, 'others': 0.008929988369345665, 'snakes': 0.00024289925931952894, 'dogs': 5.2845512982457876e-05, 'cats': 9.302189596382959e-08}\n"
     ]
    }
   ],
   "source": [
    "path = os.getcwd() + '\\\\testing_data'\n",
    "for (dirpath, dirnames, filenames) in os.walk(path):\n",
    "    for filename in filenames:\n",
    "        print(filename)\n",
    "        load_process_predict(\".\\\\testing_data\\\\\"+filename)"
   ]
  }
 ],
 "metadata": {
  "kernelspec": {
   "display_name": "Python 3 (ipykernel)",
   "language": "python",
   "name": "python3"
  },
  "language_info": {
   "codemirror_mode": {
    "name": "ipython",
    "version": 3
   },
   "file_extension": ".py",
   "mimetype": "text/x-python",
   "name": "python",
   "nbconvert_exporter": "python",
   "pygments_lexer": "ipython3",
   "version": "3.8.13"
  },
  "vscode": {
   "interpreter": {
    "hash": "c91e0d3abcf45be7fbdd62126f8c5b0be06d3397fd7a6bd67ca08a695de2f61c"
   }
  }
 },
 "nbformat": 4,
 "nbformat_minor": 5
}
